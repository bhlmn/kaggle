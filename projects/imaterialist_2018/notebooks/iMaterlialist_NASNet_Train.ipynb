{
  "nbformat": 4,
  "nbformat_minor": 0,
  "metadata": {
    "colab": {
      "name": "iMaterlialist-NASNet-Train.ipynb",
      "version": "0.3.2",
      "views": {},
      "default_view": {},
      "provenance": [
        {
          "file_id": "18x9p4zklXHj3pLT6LKAA1Z2pJRBGI74p",
          "timestamp": 1523506264300
        }
      ],
      "collapsed_sections": []
    },
    "kernelspec": {
      "display_name": "Python 3",
      "language": "python",
      "name": "python3"
    },
    "accelerator": "GPU"
  },
  "cells": [
    {
      "metadata": {
        "id": "KoKsvGtPgQ8G",
        "colab_type": "text"
      },
      "cell_type": "markdown",
      "source": [
        "# NASNet-iMaterialist\n",
        "## TFNW\n",
        "\n",
        "Train NASNet on the iMaterialist dataset.\n",
        "\n",
        "@alkari"
      ]
    },
    {
      "metadata": {
        "id": "CWdeb3klcCYx",
        "colab_type": "text"
      },
      "cell_type": "markdown",
      "source": [
        "### Check GPU/CPU memory capacity"
      ]
    },
    {
      "metadata": {
        "id": "q_5xTl0PwydF",
        "colab_type": "code",
        "colab": {
          "autoexec": {
            "startup": false,
            "wait_interval": 0
          }
        }
      },
      "cell_type": "code",
      "source": [
        "# To reset your vm, useful if you can't login to Google Drive\n",
        "# !kill -9 -1"
      ],
      "execution_count": 0,
      "outputs": []
    },
    {
      "metadata": {
        "id": "dg2CwzbvcCHu",
        "colab_type": "code",
        "colab": {
          "autoexec": {
            "startup": false,
            "wait_interval": 0
          }
        }
      },
      "cell_type": "code",
      "source": [
        "%%capture\n",
        "# memory footprint support libraries/code\n",
        "!ln -sf /opt/bin/nvidia-smi /usr/bin/nvidia-smi\n",
        "!pip install -q gputil\n",
        "!pip install -q psutil\n",
        "!pip install -q humanize\n"
      ],
      "execution_count": 0,
      "outputs": []
    },
    {
      "metadata": {
        "id": "b4poMDB0cBxv",
        "colab_type": "code",
        "colab": {
          "autoexec": {
            "startup": false,
            "wait_interval": 0
          },
          "base_uri": "https://localhost:8080/",
          "height": 51
        },
        "outputId": "fb078e5f-a060-4750-9c9e-db164db23c3f",
        "executionInfo": {
          "status": "ok",
          "timestamp": 1523508464121,
          "user_tz": 420,
          "elapsed": 318,
          "user": {
            "displayName": "Al Kari",
            "photoUrl": "//lh3.googleusercontent.com/-SzWfWceGuvQ/AAAAAAAAAAI/AAAAAAAAA4M/jdXT3gTXKpM/s50-c-k-no/photo.jpg",
            "userId": "100759185465945066793"
          }
        }
      },
      "cell_type": "code",
      "source": [
        "import psutil\n",
        "import humanize\n",
        "import os\n",
        "import GPUtil as GPU\n",
        "\n",
        "GPUs = GPU.getGPUs()\n",
        "# XXX: only one GPU on Colab and isn’t guaranteed\n",
        "gpu = GPUs[0]\n",
        "def printm():\n",
        "  process = psutil.Process(os.getpid())\n",
        "  print('Gen RAM Free: ' + humanize.naturalsize( psutil.virtual_memory().available ), ' I Proc size: ' + humanize.naturalsize( process.memory_info().rss))\n",
        "  print('GPU RAM Free: {0:.0f}MB | Used: {1:.0f}MB | Util {2:3.0f}% | Total {3:.0f}MB'.format(gpu.memoryFree, gpu.memoryUsed, gpu.memoryUtil*100, gpu.memoryTotal))\n",
        "printm()"
      ],
      "execution_count": 1,
      "outputs": [
        {
          "output_type": "stream",
          "text": [
            "Gen RAM Free: 12.9 GB  I Proc size: 129.0 MB\n",
            "GPU RAM Free: 11438MB | Used: 1MB | Util   0% | Total 11439MB\n"
          ],
          "name": "stdout"
        }
      ]
    },
    {
      "metadata": {
        "id": "4RLsAdwjcBnh",
        "colab_type": "code",
        "colab": {
          "autoexec": {
            "startup": false,
            "wait_interval": 0
          }
        }
      },
      "cell_type": "code",
      "source": [
        ""
      ],
      "execution_count": 0,
      "outputs": []
    },
    {
      "metadata": {
        "id": "j8bj-md7cBSh",
        "colab_type": "text"
      },
      "cell_type": "markdown",
      "source": [
        "### Access GoogleDrive Store"
      ]
    },
    {
      "metadata": {
        "id": "gAmNPJQdQGDH",
        "colab_type": "code",
        "colab": {
          "autoexec": {
            "startup": false,
            "wait_interval": 0
          }
        }
      },
      "cell_type": "code",
      "source": [
        "!apt-get install -y -qq software-properties-common python-software-properties module-init-tools\n",
        "!add-apt-repository -y ppa:alessandro-strada/ppa 2>&1 > /dev/null\n",
        "!apt-get update -qq 2>&1 > /dev/null\n",
        "!apt-get -y install -qq google-drive-ocamlfuse fuse\n",
        "from google.colab import auth\n",
        "auth.authenticate_user()\n",
        "from oauth2client.client import GoogleCredentials\n",
        "creds = GoogleCredentials.get_application_default()\n",
        "import getpass\n",
        "!google-drive-ocamlfuse -headless -id={creds.client_id} -secret={creds.client_secret} < /dev/null 2>&1 | grep URL\n",
        "vcode = getpass.getpass()\n",
        "!echo {vcode} | google-drive-ocamlfuse -headless -id={creds.client_id} -secret={creds.client_secret}"
      ],
      "execution_count": 0,
      "outputs": []
    },
    {
      "metadata": {
        "id": "yEvehawvQF5B",
        "colab_type": "code",
        "colab": {
          "autoexec": {
            "startup": false,
            "wait_interval": 0
          }
        }
      },
      "cell_type": "code",
      "source": [
        "!mkdir -p drive\n",
        "!google-drive-ocamlfuse drive"
      ],
      "execution_count": 0,
      "outputs": []
    },
    {
      "metadata": {
        "id": "y0BHYxQ8UxEL",
        "colab_type": "text"
      },
      "cell_type": "markdown",
      "source": [
        "### Create folders structure"
      ]
    },
    {
      "metadata": {
        "id": "3TCiYq-DQkXu",
        "colab_type": "code",
        "colab": {
          "autoexec": {
            "startup": false,
            "wait_interval": 0
          }
        }
      },
      "cell_type": "code",
      "source": [
        "import os\n",
        "os.chdir('/content/drive')\n",
        "os.makedirs('nasnet', exist_ok=True)\n",
        "os.chdir('nasnet')\n",
        "os.makedirs('weights', exist_ok=True)"
      ],
      "execution_count": 0,
      "outputs": []
    },
    {
      "metadata": {
        "id": "PPc9csYl6xj8",
        "colab_type": "code",
        "colab": {
          "autoexec": {
            "startup": false,
            "wait_interval": 0
          }
        }
      },
      "cell_type": "code",
      "source": [
        "!pwd\n",
        "!ls ../iMaterialist"
      ],
      "execution_count": 0,
      "outputs": []
    },
    {
      "metadata": {
        "id": "uDmEOuD9QGqB",
        "colab_type": "text"
      },
      "cell_type": "markdown",
      "source": [
        "### Download model definition"
      ]
    },
    {
      "metadata": {
        "id": "08AHqBYjPNQW",
        "colab_type": "code",
        "colab": {
          "autoexec": {
            "startup": false,
            "wait_interval": 0
          }
        }
      },
      "cell_type": "code",
      "source": [
        "if not os.path.isfile('nasnet.py'):\n",
        "  !wget https://raw.githubusercontent.com/alkari/Keras-NASNet/master/nasnet.py\n",
        "if not os.path.isfile('cutout.py'):\n",
        "  !wget https://raw.githubusercontent.com/alkari/Keras-NASNet/master/cutout.py"
      ],
      "execution_count": 0,
      "outputs": []
    },
    {
      "metadata": {
        "id": "Npq_E4hFgtRt",
        "colab_type": "text"
      },
      "cell_type": "markdown",
      "source": [
        "### Imports"
      ]
    },
    {
      "metadata": {
        "id": "jYc_JDucPNQg",
        "colab_type": "code",
        "colab": {
          "autoexec": {
            "startup": false,
            "wait_interval": 0
          },
          "base_uri": "https://localhost:8080/",
          "height": 34
        },
        "outputId": "a37f287a-448d-49bc-84a6-2f8beea7da63",
        "executionInfo": {
          "status": "ok",
          "timestamp": 1523508485319,
          "user_tz": 420,
          "elapsed": 2344,
          "user": {
            "displayName": "Al Kari",
            "photoUrl": "//lh3.googleusercontent.com/-SzWfWceGuvQ/AAAAAAAAAAI/AAAAAAAAA4M/jdXT3gTXKpM/s50-c-k-no/photo.jpg",
            "userId": "100759185465945066793"
          }
        }
      },
      "cell_type": "code",
      "source": [
        "from __future__ import print_function\n",
        "from keras.preprocessing.image import ImageDataGenerator\n",
        "from keras.utils import np_utils\n",
        "from keras.callbacks import ModelCheckpoint\n",
        "from keras.callbacks import ReduceLROnPlateau\n",
        "from keras.callbacks import CSVLogger\n",
        "from keras.optimizers import Adam\n",
        "from nasnet import NASNet, NASNetLarge, preprocess_input\n",
        "from cutout import cutout\n",
        "import numpy as np\n",
        "import h5py\n"
      ],
      "execution_count": 4,
      "outputs": [
        {
          "output_type": "stream",
          "text": [
            "Using TensorFlow backend.\n"
          ],
          "name": "stderr"
        }
      ]
    },
    {
      "metadata": {
        "id": "2XAkScTPjJW7",
        "colab_type": "text"
      },
      "cell_type": "markdown",
      "source": [
        "### Parameters"
      ]
    },
    {
      "metadata": {
        "id": "qS7kiG0LPNRW",
        "colab_type": "code",
        "colab": {
          "autoexec": {
            "startup": false,
            "wait_interval": 0
          }
        }
      },
      "cell_type": "code",
      "source": [
        "weights_file = 'weights/NASNet-iMaterialist.h5'\n",
        "lr_reducer = ReduceLROnPlateau(factor=np.sqrt(0.5), cooldown=0, patience=5, min_lr=0.5e-5)\n",
        "csv_logger = CSVLogger('NASNet-iMaterialist.csv')\n",
        "model_checkpoint = ModelCheckpoint(weights_file, monitor='val_predictions_acc', save_best_only=True,\n",
        "                                   save_weights_only=True, mode='max')"
      ],
      "execution_count": 0,
      "outputs": []
    },
    {
      "metadata": {
        "id": "ZAnKLy1uPNRb",
        "colab_type": "code",
        "colab": {
          "autoexec": {
            "startup": false,
            "wait_interval": 0
          }
        }
      },
      "cell_type": "code",
      "source": [
        "batch_size = 16\n",
        "nb_classes = 129\n",
        "nb_epoch = 20 \n",
        "data_augmentation = True\n",
        "\n",
        "# input image dimensions\n",
        "img_rows, img_cols = 224, 224\n",
        "img_channels = 3"
      ],
      "execution_count": 0,
      "outputs": []
    },
    {
      "metadata": {
        "id": "OUnD_RZsjPPb",
        "colab_type": "text"
      },
      "cell_type": "markdown",
      "source": [
        "### Load Data"
      ]
    },
    {
      "metadata": {
        "id": "Kj9sz0eFPNRi",
        "colab_type": "code",
        "colab": {
          "autoexec": {
            "startup": false,
            "wait_interval": 0
          }
        }
      },
      "cell_type": "code",
      "source": [
        "def load_dataset(train_file, test_file):\n",
        "    with h5py.File(train_file, 'r') as hf:\n",
        "        train_images = hf['train']['images'][:]\n",
        "        train_labels= hf['train']['labels'][:]\n",
        "\n",
        "    with h5py.File(test_file, 'r') as hf:\n",
        "        test_images = hf['test']['images'][:]\n",
        "        test_labels= hf['test']['labels'][:]\n",
        "        \n",
        "    train_labels = np.reshape(train_labels, (len(train_labels), 1))\n",
        "    test_labels = np.reshape(test_labels, (len(test_labels), 1))\n",
        "    \n",
        "    return (train_images,train_labels), (test_images, test_labels)\n",
        "\n",
        "(X_train, y_train), (X_test, y_test) = load_dataset('../iMaterialist/train_58.h5','../iMaterialist/test_2.h5')"
      ],
      "execution_count": 0,
      "outputs": []
    },
    {
      "metadata": {
        "id": "6yfy4chqPNRn",
        "colab_type": "code",
        "colab": {
          "autoexec": {
            "startup": false,
            "wait_interval": 0
          },
          "base_uri": "https://localhost:8080/",
          "height": 85
        },
        "outputId": "4f7a84f9-9396-4e4a-c458-ab45fcaeb7e2",
        "executionInfo": {
          "status": "ok",
          "timestamp": 1523508510582,
          "user_tz": 420,
          "elapsed": 309,
          "user": {
            "displayName": "Al Kari",
            "photoUrl": "//lh3.googleusercontent.com/-SzWfWceGuvQ/AAAAAAAAAAI/AAAAAAAAA4M/jdXT3gTXKpM/s50-c-k-no/photo.jpg",
            "userId": "100759185465945066793"
          }
        }
      },
      "cell_type": "code",
      "source": [
        "print(X_train.shape)\n",
        "print(y_train.shape)\n",
        "print(X_test.shape)\n",
        "print(y_test.shape)\n"
      ],
      "execution_count": 8,
      "outputs": [
        {
          "output_type": "stream",
          "text": [
            "(1000, 224, 224, 3)\n",
            "(1000, 1)\n",
            "(1000, 224, 224, 3)\n",
            "(1000, 1)\n"
          ],
          "name": "stdout"
        }
      ]
    },
    {
      "metadata": {
        "id": "n6YZeOAOPNSC",
        "colab_type": "code",
        "colab": {
          "autoexec": {
            "startup": false,
            "wait_interval": 0
          }
        }
      },
      "cell_type": "code",
      "source": [
        "# Convert class vectors to binary class matrices (one-hot-encoding)\n",
        "Y_train = np_utils.to_categorical(y_train, nb_classes)\n",
        "Y_test = np_utils.to_categorical(y_test, nb_classes)\n",
        "\n",
        "X_train = X_train.astype('float32')\n",
        "X_test = X_test.astype('float32')\n"
      ],
      "execution_count": 0,
      "outputs": []
    },
    {
      "metadata": {
        "id": "EhdVYrrZPNSK",
        "colab_type": "code",
        "colab": {
          "autoexec": {
            "startup": false,
            "wait_interval": 0
          },
          "base_uri": "https://localhost:8080/",
          "height": 34
        },
        "outputId": "3f8bd86c-8363-494e-8aed-3b7b453150aa",
        "executionInfo": {
          "status": "ok",
          "timestamp": 1523508514733,
          "user_tz": 420,
          "elapsed": 316,
          "user": {
            "displayName": "Al Kari",
            "photoUrl": "//lh3.googleusercontent.com/-SzWfWceGuvQ/AAAAAAAAAAI/AAAAAAAAA4M/jdXT3gTXKpM/s50-c-k-no/photo.jpg",
            "userId": "100759185465945066793"
          }
        }
      },
      "cell_type": "code",
      "source": [
        "Y_train.shape"
      ],
      "execution_count": 10,
      "outputs": [
        {
          "output_type": "execute_result",
          "data": {
            "text/plain": [
              "(1000, 129)"
            ]
          },
          "metadata": {
            "tags": []
          },
          "execution_count": 10
        }
      ]
    },
    {
      "metadata": {
        "id": "KUxAsxj7PNSi",
        "colab_type": "code",
        "colab": {
          "autoexec": {
            "startup": false,
            "wait_interval": 0
          }
        }
      },
      "cell_type": "code",
      "source": [
        "# preprocess input\n",
        "X_train = preprocess_input(X_train)\n",
        "X_test = preprocess_input(X_test)"
      ],
      "execution_count": 0,
      "outputs": []
    },
    {
      "metadata": {
        "id": "EGI3HpLcxqxz",
        "colab_type": "code",
        "colab": {
          "autoexec": {
            "startup": false,
            "wait_interval": 0
          },
          "base_uri": "https://localhost:8080/",
          "height": 68
        },
        "outputId": "55c56051-3cd7-43dc-d64a-16e658177627",
        "executionInfo": {
          "status": "ok",
          "timestamp": 1523508519235,
          "user_tz": 420,
          "elapsed": 1476,
          "user": {
            "displayName": "Al Kari",
            "photoUrl": "//lh3.googleusercontent.com/-SzWfWceGuvQ/AAAAAAAAAAI/AAAAAAAAA4M/jdXT3gTXKpM/s50-c-k-no/photo.jpg",
            "userId": "100759185465945066793"
          }
        }
      },
      "cell_type": "code",
      "source": [
        "# Check memory\n",
        "!free -m"
      ],
      "execution_count": 12,
      "outputs": [
        {
          "output_type": "stream",
          "text": [
            "              total        used        free      shared  buff/cache   available\r\n",
            "Mem:          13029        2043        7013         220        3971       10522\r\n",
            "Swap:             0           0           0\r\n"
          ],
          "name": "stdout"
        }
      ]
    },
    {
      "metadata": {
        "id": "y2lTvlYCjZsP",
        "colab_type": "text"
      },
      "cell_type": "markdown",
      "source": [
        "## Build the model using the auxilary branch to correctly train NASNet\n"
      ]
    },
    {
      "metadata": {
        "id": "E7ceHAmhPNTd",
        "colab_type": "code",
        "colab": {
          "autoexec": {
            "startup": false,
            "wait_interval": 0
          }
        }
      },
      "cell_type": "code",
      "source": [
        "model = NASNetLarge((img_rows, img_cols, img_channels),dropout=0.5, use_auxiliary_branch=True, include_top=True, weights=None, classes=nb_classes)\n",
        "#model.summary()"
      ],
      "execution_count": 0,
      "outputs": []
    },
    {
      "metadata": {
        "id": "WvkgM0t9PNTs",
        "colab_type": "code",
        "colab": {
          "autoexec": {
            "startup": false,
            "wait_interval": 0
          }
        }
      },
      "cell_type": "code",
      "source": [
        "optimizer = Adam(lr=1e-3, clipnorm=5)\n",
        "model.compile(loss=['categorical_crossentropy', 'categorical_crossentropy'],\n",
        "              optimizer=optimizer, metrics=['accuracy'], loss_weights=[1.0, 0.4])"
      ],
      "execution_count": 0,
      "outputs": []
    },
    {
      "metadata": {
        "id": "waaTgEArjgNo",
        "colab_type": "text"
      },
      "cell_type": "markdown",
      "source": [
        "## Begin Training"
      ]
    },
    {
      "metadata": {
        "id": "KGvv4KwXPNVG",
        "colab_type": "code",
        "colab": {
          "autoexec": {
            "startup": false,
            "wait_interval": 0
          },
          "base_uri": "https://localhost:8080/",
          "height": 1006
        },
        "outputId": "fe9a092b-270e-4fc1-d7ca-03fe9579869d",
        "executionInfo": {
          "status": "ok",
          "timestamp": 1523512751948,
          "user_tz": 420,
          "elapsed": 4187023,
          "user": {
            "displayName": "Al Kari",
            "photoUrl": "//lh3.googleusercontent.com/-SzWfWceGuvQ/AAAAAAAAAAI/AAAAAAAAA4M/jdXT3gTXKpM/s50-c-k-no/photo.jpg",
            "userId": "100759185465945066793"
          }
        }
      },
      "cell_type": "code",
      "source": [
        "if not data_augmentation:\n",
        "    print('Not using data augmentation.')\n",
        "    \n",
        "    model.fit(X_train, [Y_train, Y_train],\n",
        "              batch_size=batch_size,\n",
        "              epochs=nb_epoch,\n",
        "              validation_data=(X_test, [Y_test, Y_test]),\n",
        "              shuffle=True,\n",
        "              verbose=1,\n",
        "              callbacks=[lr_reducer, csv_logger, model_checkpoint])\n",
        "else:\n",
        "    print('Using real-time data augmentation.')\n",
        "    # This will do preprocessing and realtime data augmentation:\n",
        "    datagen = ImageDataGenerator(\n",
        "        featurewise_center=False,  # set input mean to 0 over the dataset\n",
        "        samplewise_center=False,  # set each sample mean to 0\n",
        "        featurewise_std_normalization=False,  # divide inputs by std of the dataset\n",
        "        samplewise_std_normalization=False,  # divide each input by its std\n",
        "        zca_whitening=False,  # apply ZCA whitening\n",
        "        rotation_range=0,  # randomly rotate images in the range (degrees, 0 to 180)\n",
        "        width_shift_range=0.1,  # randomly shift images horizontally (fraction of total width)\n",
        "        height_shift_range=0.1,  # randomly shift images vertically (fraction of total height)\n",
        "        horizontal_flip=True,  # randomly flip images\n",
        "        vertical_flip=False,  # randomly flip images\n",
        "        preprocessing_function=cutout)  # randomly apply cutout\n",
        "\n",
        "    # Compute quantities required for featurewise normalization\n",
        "    # (std, mean, and principal components if ZCA whitening is applied).\n",
        "    datagen.fit(X_train)\n",
        "\n",
        "    # wrap the ImageDataGenerator to yield two label batches [y, y] for each input batch X\n",
        "    def image_generator(image_datagenerator, batch_size):\n",
        "        iterator = datagen.flow(X_train, Y_train, batch_size=batch_size)\n",
        "\n",
        "        while True:\n",
        "            X, y = next(iterator)  # get the next batch\n",
        "            yield X, [y, y]  # duplicate the labels for each batch\n",
        "\n",
        "    # Fit the model on the batches generated by datagen.flow().\n",
        "    model.fit_generator(image_generator(datagen, batch_size),\n",
        "                        steps_per_epoch=X_train.shape[0] // batch_size,\n",
        "                        validation_data=(X_test, [Y_test, Y_test]),\n",
        "                        epochs=nb_epoch, verbose=1,\n",
        "                        callbacks=[lr_reducer, csv_logger, model_checkpoint])\n",
        "\n",
        "scores = model.evaluate(X_test, [Y_test, Y_test], batch_size=batch_size)\n",
        "for score, metric_name in zip(scores, model.metrics_names):\n",
        "    print(\"%s : %0.4f\" % (metric_name, score))\n",
        "    print('\\n')"
      ],
      "execution_count": 15,
      "outputs": [
        {
          "output_type": "stream",
          "text": [
            "Using real-time data augmentation.\n",
            "Epoch 1/20\n",
            "62/62 [==============================] - 224s 4s/step - loss: 9.7265 - predictions_loss: 6.1116 - aux_predictions_loss: 5.5626 - predictions_acc: 0.0111 - aux_predictions_acc: 0.0141 - val_loss: 23.7820 - val_predictions_loss: 16.0375 - val_aux_predictions_loss: 15.9730 - val_predictions_acc: 0.0050 - val_aux_predictions_acc: 0.0090\n",
            "Epoch 2/20\n",
            "62/62 [==============================] - 162s 3s/step - loss: 9.1930 - predictions_loss: 5.7993 - aux_predictions_loss: 5.3234 - predictions_acc: 0.0111 - aux_predictions_acc: 0.0081 - val_loss: 23.5090 - val_predictions_loss: 15.9730 - val_aux_predictions_loss: 15.8847 - val_predictions_acc: 0.0090 - val_aux_predictions_acc: 0.0090\n",
            "Epoch 3/20\n",
            "53/62 [========================>.....] - ETA: 18s - loss: 8.8907 - predictions_loss: 5.7245 - aux_predictions_loss: 5.1471 - predictions_acc: 0.0118 - aux_predictions_acc: 0.0142"
          ],
          "name": "stdout"
        },
        {
          "output_type": "stream",
          "text": [
            "62/62 [==============================] - 162s 3s/step - loss: 8.8963 - predictions_loss: 5.7250 - aux_predictions_loss: 5.1848 - predictions_acc: 0.0121 - aux_predictions_acc: 0.0131 - val_loss: 23.5099 - val_predictions_loss: 16.0375 - val_aux_predictions_loss: 16.1020 - val_predictions_acc: 0.0050 - val_aux_predictions_acc: 1.0000e-03\n",
            "Epoch 4/20\n",
            "62/62 [==============================] - 161s 3s/step - loss: 8.7252 - predictions_loss: 5.7207 - aux_predictions_loss: 5.0444 - predictions_acc: 0.0071 - aux_predictions_acc: 0.0161 - val_loss: 23.3841 - val_predictions_loss: 16.0375 - val_aux_predictions_loss: 16.0214 - val_predictions_acc: 0.0050 - val_aux_predictions_acc: 0.0060\n",
            "Epoch 5/20\n",
            "62/62 [==============================] - 161s 3s/step - loss: 8.6818 - predictions_loss: 5.6513 - aux_predictions_loss: 5.3385 - predictions_acc: 0.0121 - aux_predictions_acc: 0.0091 - val_loss: 23.1961 - val_predictions_loss: 15.9569 - val_aux_predictions_loss: 15.9408 - val_predictions_acc: 0.0100 - val_aux_predictions_acc: 0.0110\n",
            "Epoch 6/20\n",
            " 6/62 [=>............................] - ETA: 1:57 - loss: 8.4686 - predictions_loss: 5.5516 - aux_predictions_loss: 5.1437 - predictions_acc: 0.0312 - aux_predictions_acc: 0.0000e+00"
          ],
          "name": "stdout"
        },
        {
          "output_type": "stream",
          "text": [
            "62/62 [==============================] - 162s 3s/step - loss: 8.5408 - predictions_loss: 5.6496 - aux_predictions_loss: 5.1616 - predictions_acc: 0.0111 - aux_predictions_acc: 0.0101 - val_loss: 23.1162 - val_predictions_loss: 15.9892 - val_aux_predictions_loss: 15.8763 - val_predictions_acc: 0.0080 - val_aux_predictions_acc: 0.0150\n",
            "Epoch 7/20\n",
            "62/62 [==============================] - 161s 3s/step - loss: 8.3548 - predictions_loss: 5.5491 - aux_predictions_loss: 5.1592 - predictions_acc: 0.0171 - aux_predictions_acc: 0.0141 - val_loss: 23.0848 - val_predictions_loss: 15.9730 - val_aux_predictions_loss: 16.0214 - val_predictions_acc: 0.0090 - val_aux_predictions_acc: 0.0060\n",
            "Epoch 8/20\n",
            "62/62 [==============================] - 161s 3s/step - loss: 8.2736 - predictions_loss: 5.5561 - aux_predictions_loss: 5.1293 - predictions_acc: 0.0111 - aux_predictions_acc: 0.0091 - val_loss: 23.0270 - val_predictions_loss: 15.9730 - val_aux_predictions_loss: 16.0536 - val_predictions_acc: 0.0090 - val_aux_predictions_acc: 0.0040\n",
            "Epoch 9/20\n"
          ],
          "name": "stdout"
        },
        {
          "output_type": "stream",
          "text": [
            "62/62 [==============================] - 161s 3s/step - loss: 8.3550 - predictions_loss: 5.7546 - aux_predictions_loss: 4.9638 - predictions_acc: 0.0192 - aux_predictions_acc: 0.0171 - val_loss: 23.0186 - val_predictions_loss: 15.9730 - val_aux_predictions_loss: 16.0053 - val_predictions_acc: 0.0090 - val_aux_predictions_acc: 0.0070\n",
            "Epoch 10/20\n",
            "62/62 [==============================] - 161s 3s/step - loss: 8.3113 - predictions_loss: 5.6076 - aux_predictions_loss: 5.0096 - predictions_acc: 0.0121 - aux_predictions_acc: 0.0131 - val_loss: 23.1206 - val_predictions_loss: 16.0375 - val_aux_predictions_loss: 15.9408 - val_predictions_acc: 0.0050 - val_aux_predictions_acc: 0.0110\n",
            "Epoch 11/20\n",
            "62/62 [==============================] - 160s 3s/step - loss: 8.4654 - predictions_loss: 5.7498 - aux_predictions_loss: 5.0683 - predictions_acc: 0.0091 - aux_predictions_acc: 0.0131 - val_loss: 23.1305 - val_predictions_loss: 16.0375 - val_aux_predictions_loss: 16.0214 - val_predictions_acc: 0.0050 - val_aux_predictions_acc: 0.0060\n"
          ],
          "name": "stdout"
        },
        {
          "output_type": "stream",
          "text": [
            "Epoch 12/20\n",
            "62/62 [==============================] - 160s 3s/step - loss: 8.2471 - predictions_loss: 5.5734 - aux_predictions_loss: 5.0058 - predictions_acc: 0.0141 - aux_predictions_acc: 0.0161 - val_loss: 23.0705 - val_predictions_loss: 16.0375 - val_aux_predictions_loss: 15.9086 - val_predictions_acc: 0.0050 - val_aux_predictions_acc: 0.0130\n",
            "Epoch 13/20\n",
            "62/62 [==============================] - 160s 3s/step - loss: 8.3735 - predictions_loss: 5.6728 - aux_predictions_loss: 5.0531 - predictions_acc: 0.0081 - aux_predictions_acc: 0.0071 - val_loss: 22.9570 - val_predictions_loss: 15.9408 - val_aux_predictions_loss: 15.8763 - val_predictions_acc: 0.0110 - val_aux_predictions_acc: 0.0150\n",
            "Epoch 14/20\n",
            "60/62 [============================>.] - ETA: 4s - loss: 8.2087 - predictions_loss: 5.5648 - aux_predictions_loss: 5.0221 - predictions_acc: 0.0125 - aux_predictions_acc: 0.0177"
          ],
          "name": "stdout"
        },
        {
          "output_type": "stream",
          "text": [
            "62/62 [==============================] - 162s 3s/step - loss: 8.2178 - predictions_loss: 5.5735 - aux_predictions_loss: 5.0254 - predictions_acc: 0.0131 - aux_predictions_acc: 0.0171 - val_loss: 23.0478 - val_predictions_loss: 16.0375 - val_aux_predictions_loss: 16.0053 - val_predictions_acc: 0.0050 - val_aux_predictions_acc: 0.0070\n",
            "Epoch 15/20\n",
            "62/62 [==============================] - 161s 3s/step - loss: 8.1509 - predictions_loss: 5.5765 - aux_predictions_loss: 4.9721 - predictions_acc: 0.0131 - aux_predictions_acc: 0.0091 - val_loss: 22.9934 - val_predictions_loss: 16.0053 - val_aux_predictions_loss: 16.0536 - val_predictions_acc: 0.0070 - val_aux_predictions_acc: 0.0040\n",
            "Epoch 16/20\n",
            "62/62 [==============================] - 160s 3s/step - loss: 8.0868 - predictions_loss: 5.5571 - aux_predictions_loss: 4.8992 - predictions_acc: 0.0202 - aux_predictions_acc: 0.0262 - val_loss: 22.9892 - val_predictions_loss: 16.0053 - val_aux_predictions_loss: 16.0053 - val_predictions_acc: 0.0070 - val_aux_predictions_acc: 0.0070\n",
            "Epoch 17/20\n",
            " 8/62 [==>...........................] - ETA: 1:50 - loss: 7.9669 - predictions_loss: 5.4042 - aux_predictions_loss: 4.9539 - predictions_acc: 0.0469 - aux_predictions_acc: 0.0312"
          ],
          "name": "stdout"
        },
        {
          "output_type": "stream",
          "text": [
            "62/62 [==============================] - 160s 3s/step - loss: 8.0174 - predictions_loss: 5.5053 - aux_predictions_loss: 4.8695 - predictions_acc: 0.0282 - aux_predictions_acc: 0.0292 - val_loss: 23.0020 - val_predictions_loss: 16.0375 - val_aux_predictions_loss: 16.0536 - val_predictions_acc: 0.0050 - val_aux_predictions_acc: 0.0040\n",
            "Epoch 18/20\n",
            "62/62 [==============================] - 161s 3s/step - loss: 7.9198 - predictions_loss: 5.4550 - aux_predictions_loss: 4.8410 - predictions_acc: 0.0192 - aux_predictions_acc: 0.0333 - val_loss: 22.9743 - val_predictions_loss: 16.0536 - val_aux_predictions_loss: 16.0037 - val_predictions_acc: 0.0040 - val_aux_predictions_acc: 0.0060\n",
            "Epoch 19/20\n",
            "62/62 [==============================] - 160s 3s/step - loss: 8.3111 - predictions_loss: 5.8039 - aux_predictions_loss: 4.9138 - predictions_acc: 0.0121 - aux_predictions_acc: 0.0121 - val_loss: 22.9371 - val_predictions_loss: 15.9730 - val_aux_predictions_loss: 15.9569 - val_predictions_acc: 0.0090 - val_aux_predictions_acc: 0.0100\n",
            "Epoch 20/20\n"
          ],
          "name": "stdout"
        },
        {
          "output_type": "stream",
          "text": [
            "62/62 [==============================] - 160s 3s/step - loss: 8.1554 - predictions_loss: 5.5652 - aux_predictions_loss: 4.9873 - predictions_acc: 0.0181 - aux_predictions_acc: 0.0151 - val_loss: 22.9982 - val_predictions_loss: 15.9730 - val_aux_predictions_loss: 16.0859 - val_predictions_acc: 0.0090 - val_aux_predictions_acc: 0.0020\n",
            "1000/1000 [==============================] - 34s 34ms/step\n",
            "loss : 22.9982\n",
            "\n",
            "\n",
            "predictions_loss : 15.9730\n",
            "\n",
            "\n",
            "aux_predictions_loss : 16.0859\n",
            "\n",
            "\n",
            "predictions_acc : 0.0090\n",
            "\n",
            "\n",
            "aux_predictions_acc : 0.0020\n",
            "\n",
            "\n"
          ],
          "name": "stdout"
        }
      ]
    },
    {
      "metadata": {
        "id": "S9nZcDkoJP0K",
        "colab_type": "code",
        "colab": {
          "autoexec": {
            "startup": false,
            "wait_interval": 0
          }
        }
      },
      "cell_type": "code",
      "source": [
        ""
      ],
      "execution_count": 0,
      "outputs": []
    },
    {
      "metadata": {
        "id": "uKjlPJJpz9zy",
        "colab_type": "text"
      },
      "cell_type": "markdown",
      "source": [
        "\n",
        "\n",
        "---\n",
        "\n",
        "\n",
        "\n",
        "\n",
        "\n",
        "\n",
        "\n",
        "\n",
        "\n",
        "\n",
        "\n",
        "\n",
        "\n",
        "\n",
        "# Backup"
      ]
    },
    {
      "metadata": {
        "id": "_LUhcD1zCC4s",
        "colab_type": "code",
        "colab": {
          "autoexec": {
            "startup": false,
            "wait_interval": 0
          }
        }
      },
      "cell_type": "code",
      "source": [
        ""
      ],
      "execution_count": 0,
      "outputs": []
    },
    {
      "metadata": {
        "id": "zF_3s7B3vr2-",
        "colab_type": "code",
        "colab": {
          "autoexec": {
            "startup": false,
            "wait_interval": 0
          }
        }
      },
      "cell_type": "code",
      "source": [
        "# Get filelist\n",
        "import os\n",
        "workdir = \"/content/drive/iMaterialist\"\n",
        "filelist = []\n",
        "for file in os.listdir(workdir):\n",
        "    if file.startswith(\"train_\"):\n",
        "        filelist.append(os.path.join(workdir,file))"
      ],
      "execution_count": 0,
      "outputs": []
    }
  ]
}